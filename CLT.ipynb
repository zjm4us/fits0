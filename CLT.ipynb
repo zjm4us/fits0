{
 "cells": [
  {
   "cell_type": "markdown",
   "metadata": {},
   "source": [
    "Illustration of Central Limit Theorem\n",
    "------\n",
    "https://en.wikipedia.org/wiki/Central_limit_theorem\n",
    "\n",
    "**The distribution of measurements of the mean value of a random process converges to the normal distribution.**\n",
    "\n",
    "Consider a process that produces a complicated distribution like the following:"
   ]
  },
  {
   "cell_type": "code",
   "execution_count": null,
   "metadata": {},
   "outputs": [],
   "source": [
    "import ROOT as R"
   ]
  },
  {
   "cell_type": "markdown",
   "metadata": {},
   "source": [
    "First we create some distribution\n",
    "----"
   ]
  },
  {
   "cell_type": "code",
   "execution_count": null,
   "metadata": {},
   "outputs": [],
   "source": [
    "tc = R.TCanvas()\n",
    "tfDist=R.TF1(\"tfDist\",\"sin(x)*sin(x)+exp(-x)*pow(2,x)\",0,10,0)\n",
    "tfDist.Draw()\n",
    "tc.Draw()"
   ]
  },
  {
   "cell_type": "markdown",
   "metadata": {},
   "source": [
    "Here tfDist represents the **shape** of the PDF for some phenomena.  To make this a true PDF it will need to be normalized to unity.\n",
    "\n",
    "We can randomly sample this distribution and histogram the random samples.  If we generate MANY samples the histogram will follow the shape of the parent probability distribution very closely.  Run the cell multipl times and watch the histogram change."
   ]
  },
  {
   "cell_type": "code",
   "execution_count": null,
   "metadata": {},
   "outputs": [],
   "source": [
    "h1=R.TH1F(\"h1\",\"sample 1\",100, 0,10) # match range of our function\n",
    "# fill 1000 times with a single sample from the PDF\n",
    "h1.FillRandom(\"tfDist\",1000)\n",
    "h1.Draw()\n",
    "tc.Draw()"
   ]
  },
  {
   "cell_type": "markdown",
   "metadata": {},
   "source": [
    "Define an experiment\n",
    "---\n",
    "\n",
    "Let's define an experiment to be:\n",
    "- sampling the distribution N times per trial (N=1,2,10,100)\n",
    "- recording the mean of these trials\n",
    "\n",
    "Then repeat each version of the experiment many times and look at the distribution of these mean values"
   ]
  },
  {
   "cell_type": "code",
   "execution_count": null,
   "metadata": {},
   "outputs": [],
   "source": [
    "hmean1 = R.TH1F(\"hmean1\",\"distribution of mean values 1 sample\", 50, 0, 10);\n",
    "hmean2 = R.TH1F(\"hmean2\",\"distribution of mean values 2 samples\", 50, 0, 10);\n",
    "hmean10 = R.TH1F(\"hmean10\",\"distribution of mean values 10 samples\", 50, 0, 10);\n",
    "hmean100 = R.TH1F(\"hmean100\",\"distribution of mean values 100 samples\", 100, 0, 10);\n",
    "hmean1.SetLineColor(R.kBlack);\n",
    "hmean2.SetLineColor(R.kRed);\n",
    "hmean10.SetLineColor(R.kGreen);\n",
    "hmean100.SetLineColor(R.kBlue);\n",
    "tc4=R.TCanvas()\n",
    "tc4.Divide(2,2)"
   ]
  },
  {
   "cell_type": "code",
   "execution_count": null,
   "metadata": {},
   "outputs": [],
   "source": [
    "ntrials=1000;\n",
    "hmean1.Reset(); hmean2.Reset(); hmean10.Reset(); hmean100.Reset()\n",
    "for i in range(ntrials):\n",
    "    # Experiment #1\n",
    "    # For each trial: we sample the \"PDF\" 1 time, then save the distribution \n",
    "    # of the mean of the trial in the hmean1 histogram.\n",
    "    # This histogram will simply sample the original PDF\n",
    "    h1.Reset()    \n",
    "    h1.FillRandom(\"tfDist\",1)\n",
    "    hmean1.Fill(h1.GetMean())\n",
    "    \n",
    "    # Experiment #2\n",
    "    # For each trial: sample the \"PDF\" twice, then save the distribution\n",
    "    # of the mean of the 2 samples.\n",
    "    # Each trial will give us a very rough estimate of the mean of our distribution.\n",
    "    h1.Reset()\n",
    "    h1.FillRandom(\"tfDist\",2)\n",
    "    hmean2.Fill(h1.GetMean())\n",
    "    \n",
    "    # Experiment #3\n",
    "    # For each trial: sample the \"PDF\" 10x, then save the distribution\n",
    "    # of the mean of the 10 samples.\n",
    "    # 10 random samples can be expected to give us a better estimate of the mean of\n",
    "    # our distribution then in the above cases\n",
    "    h1.Reset()\n",
    "    h1.FillRandom(\"tfDist\",10)\n",
    "    hmean10.Fill(h1.GetMean())\n",
    "    \n",
    "    # Experiment #4\n",
    "    # For each trial: sample the \"PDF\" 100x, then save the distribution\n",
    "    # of the mean of the 10 samples.\n",
    "    # 10 random samples can be expected to give us a better estimate of the mean of\n",
    "    # our distribution then in the above cases\n",
    "    h1.Reset()\n",
    "    h1.FillRandom(\"tfDist\",100)\n",
    "    hmean100.Fill(h1.GetMean())\n",
    "\n",
    "tc4.cd(1); hmean1.Draw()\n",
    "tc4.cd(2); hmean2.Draw()\n",
    "tc4.cd(3); hmean10.Draw()  # hmean10.Fit(\"gaus\",\"q\")\n",
    "tc4.cd(4); hmean100.Draw() # hmean100.Fit(\"gaus\",\"q\") \n",
    "tc4.Draw()"
   ]
  },
  {
   "cell_type": "markdown",
   "metadata": {},
   "source": [
    "* Top left (One samples per trial): Each trial is not a good estimate of the mean, the distribution of these trials just reproduces the PDF.\n",
    "* Top right (Two samples per trial): Again, each trial is a poor estimate of a mean value for the distribution.\n",
    "* Bottom left (10 samples per trial): Getting better, we see that the distribution of these trials is getting centered **symmetrically** around a mean value of ~4.\n",
    "* Bottom Right(100 samples per trial): Very good, we have a symmetric and normally distributed result\n",
    "\n",
    "Go ahead and change the function in the second cell to any other form and the results will be similar.  With sufficient sampling you will find the \"convergence of the mean to the normal distribution\".  "
   ]
  },
  {
   "cell_type": "code",
   "execution_count": null,
   "metadata": {},
   "outputs": [],
   "source": [
    "# Overlay a normal distribution\n",
    "tc2=R.TCanvas()\n",
    "tc2.Divide(2,1)\n",
    "tc2.cd(1)\n",
    "hmean10.SetLineWidth(3)\n",
    "hmean10.Fit(\"gaus\",\"q\") \n",
    "tc2.cd(2)\n",
    "hmean100.SetLineWidth(3)\n",
    "hmean100.Fit(\"gaus\",\"q\") \n",
    "tc2.Draw()"
   ]
  },
  {
   "cell_type": "markdown",
   "metadata": {},
   "source": [
    "Notice that the distribution of the results of these experiments is very consistent with a normal distribution!"
   ]
  }
 ],
 "metadata": {
  "kernelspec": {
   "display_name": "Python 3 (ipykernel)",
   "language": "python",
   "name": "python3"
  },
  "language_info": {
   "codemirror_mode": {
    "name": "ipython",
    "version": 3
   },
   "file_extension": ".py",
   "mimetype": "text/x-python",
   "name": "python",
   "nbconvert_exporter": "python",
   "pygments_lexer": "ipython3",
   "version": "3.9.13"
  }
 },
 "nbformat": 4,
 "nbformat_minor": 4
}
